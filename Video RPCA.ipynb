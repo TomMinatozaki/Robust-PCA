{
 "cells": [
  {
   "cell_type": "code",
   "execution_count": null,
   "metadata": {
    "collapsed": false
   },
   "outputs": [],
   "source": [
    "from IPython.display import YouTubeVideo\n",
    "YouTubeVideo('JgfK46RA8XY')"
   ]
  },
  {
   "cell_type": "code",
   "execution_count": null,
   "metadata": {
    "collapsed": true
   },
   "outputs": [],
   "source": [
    "import cv2\n",
    "import numpy as np"
   ]
  },
  {
   "cell_type": "code",
   "execution_count": null,
   "metadata": {
    "collapsed": true
   },
   "outputs": [],
   "source": [
    "cap  = cv2.VideoCapture('./Walk1.mpg')"
   ]
  },
  {
   "cell_type": "code",
   "execution_count": null,
   "metadata": {
    "collapsed": true
   },
   "outputs": [],
   "source": [
    "imgs = []"
   ]
  },
  {
   "cell_type": "code",
   "execution_count": null,
   "metadata": {
    "collapsed": false
   },
   "outputs": [],
   "source": [
    "k = 0\n",
    "ret = True\n",
    "while(ret):\n",
    "    ret,frame = cap.read()\n",
    "    if ret:\n",
    "        gray = cv2.cvtColor(frame , cv2.COLOR_BGR2GRAY)\n",
    "        #cv2.imshow('frame',gray)\n",
    "        imgs.append(gray)\n",
    "imgs = np.array(imgs)        "
   ]
  },
  {
   "cell_type": "code",
   "execution_count": null,
   "metadata": {
    "collapsed": true
   },
   "outputs": [],
   "source": [
    "##############"
   ]
  },
  {
   "cell_type": "code",
   "execution_count": null,
   "metadata": {
    "collapsed": true
   },
   "outputs": [],
   "source": [
    "import numpy as np\n",
    "import matplotlib.pyplot as plt\n",
    "%matplotlib inline\n",
    "from scipy import misc\n",
    "import numpy as np\n",
    "from glob import glob"
   ]
  },
  {
   "cell_type": "code",
   "execution_count": null,
   "metadata": {
    "collapsed": false
   },
   "outputs": [],
   "source": [
    "from urllib.request import urlopen"
   ]
  },
  {
   "cell_type": "code",
   "execution_count": null,
   "metadata": {
    "collapsed": false
   },
   "outputs": [],
   "source": [
    "from scipy.io import loadmat,savemat\n",
    "import os "
   ]
  },
  {
   "cell_type": "code",
   "execution_count": null,
   "metadata": {
    "collapsed": true
   },
   "outputs": [],
   "source": [
    "def rgb2gray(rgb):\n",
    "    r, g, b = rgb[:, :, 0], rgb[:, :, 1], rgb[:, :, 2]\n",
    "    gray = 0.2989 * r + 0.5870 * g + 0.1140 * b\n",
    "    return gray / 255."
   ]
  },
  {
   "cell_type": "code",
   "execution_count": null,
   "metadata": {
    "collapsed": false
   },
   "outputs": [],
   "source": [
    "######## from cv2 #########\n",
    "d1 = 128\n",
    "d2 = 160\n",
    "X =  np.array([cv2.resize(item,(d2,d1)) for item in imgs])"
   ]
  },
  {
   "cell_type": "code",
   "execution_count": null,
   "metadata": {
    "collapsed": false
   },
   "outputs": [],
   "source": [
    "X = np.reshape(X,(-1,d2*d1))\n",
    "#X = np.reshape(X,(-1,d1,d2))"
   ]
  },
  {
   "cell_type": "code",
   "execution_count": null,
   "metadata": {
    "collapsed": false
   },
   "outputs": [],
   "source": [
    "plt.imshow(X[30] , cmap='gray')\n",
    "plt.show()"
   ]
  },
  {
   "cell_type": "code",
   "execution_count": null,
   "metadata": {
    "collapsed": false
   },
   "outputs": [],
   "source": [
    "plt.imshow(A[30] , cmap='gray')\n",
    "plt.show()"
   ]
  },
  {
   "cell_type": "code",
   "execution_count": null,
   "metadata": {
    "collapsed": false
   },
   "outputs": [],
   "source": [
    "import numpy as np\n",
    "from numpy.linalg import norm, svd"
   ]
  },
  {
   "cell_type": "code",
   "execution_count": null,
   "metadata": {
    "collapsed": true
   },
   "outputs": [],
   "source": [
    "def inexact_augmented_lagrange_multiplier(X, lmbda=.01, tol=1e-3,\n",
    "                                          maxiter=100, verbose=True):\n",
    "    \"\"\"\n",
    "    Inexact Augmented Lagrange Multiplier\n",
    "    \"\"\"\n",
    "    Y = X\n",
    "    norm_two = norm(Y.ravel(), 2)\n",
    "    norm_inf = norm(Y.ravel(), np.inf) / lmbda\n",
    "    dual_norm = np.max([norm_two, norm_inf])\n",
    "    Y = Y / dual_norm\n",
    "    A = np.zeros(Y.shape)\n",
    "    E = np.zeros(Y.shape)\n",
    "    dnorm = norm(X, 'fro')\n",
    "    mu = 1.25 / norm_two\n",
    "    rho = 1.5\n",
    "    sv = 10.\n",
    "    n = Y.shape[0]\n",
    "    itr = 0\n",
    "    while True:\n",
    "        Eraw = X - A + (1 / mu) * Y\n",
    "        Eupdate = np.maximum(Eraw - lmbda / mu, 0) + np.minimum(Eraw + lmbda / mu, 0)\n",
    "        U, S, V = svd(X - Eupdate + (1 / mu) * Y, full_matrices=False)\n",
    "        svp = (S > 1 / mu).shape[0]\n",
    "        if svp < sv:\n",
    "            sv = np.min([svp + 1, n])\n",
    "        else:\n",
    "            sv = np.min([svp + round(.05 * n), n])\n",
    "        Aupdate = np.dot(np.dot(U[:, :svp], np.diag(S[:svp] - 1 / mu)), V[:svp, :])\n",
    "        A = Aupdate\n",
    "        E = Eupdate\n",
    "        Z = X - A - E\n",
    "        Y = Y + mu * Z\n",
    "        mu = np.min([mu * rho, mu * 1e7])\n",
    "        itr += 1\n",
    "        if ((norm(Z, 'fro') / dnorm) < tol) or (itr >= maxiter):\n",
    "            break\n",
    "    if verbose:\n",
    "        print(\"Finished at iteration %d\" % (itr))  \n",
    "    return A, E"
   ]
  },
  {
   "cell_type": "code",
   "execution_count": null,
   "metadata": {
    "collapsed": false
   },
   "outputs": [],
   "source": [
    "clip = 200\n",
    "A, E = inexact_augmented_lagrange_multiplier(X[:clip])"
   ]
  },
  {
   "cell_type": "code",
   "execution_count": null,
   "metadata": {
    "collapsed": false
   },
   "outputs": [],
   "source": [
    "X = np.reshape(X,(-1,d1,d2))\n",
    "A = A.reshape(clip,d1, d2)# * 255.\n",
    "E = E.reshape(clip,d1, d2)# * 255."
   ]
  },
  {
   "cell_type": "code",
   "execution_count": null,
   "metadata": {
    "collapsed": false
   },
   "outputs": [],
   "source": [
    "#Write X Video\n",
    "fourcc = cv2.VideoWriter_fourcc(*'DIVX')\n",
    "out = cv2.VideoWriter('output_X.avi', fourcc, 12.0, (d2,d1),0) \n",
    "for i in range(clip):\n",
    "    out.write(X[i])\n",
    "out.release()"
   ]
  },
  {
   "cell_type": "code",
   "execution_count": null,
   "metadata": {
    "collapsed": false
   },
   "outputs": [],
   "source": [
    "plt.imshow(X[0] , cmap='gray')\n",
    "plt.show()"
   ]
  },
  {
   "cell_type": "code",
   "execution_count": null,
   "metadata": {
    "collapsed": true
   },
   "outputs": [],
   "source": [
    "#Write X Video\n",
    "#A = A/255.\n",
    "fourcc = cv2.VideoWriter_fourcc(*'DIVX')\n",
    "out = cv2.VideoWriter('output_X.avi', fourcc, 12.0, (d2,d1),0) \n",
    "for i in range(clip):\n",
    "    out.write(np.uint8(X[i]))\n",
    "out.release()"
   ]
  },
  {
   "cell_type": "code",
   "execution_count": null,
   "metadata": {
    "collapsed": false
   },
   "outputs": [],
   "source": [
    "#Write A Video\n",
    "#A = A/255.\n",
    "fourcc = cv2.VideoWriter_fourcc(*'DIVX')\n",
    "out = cv2.VideoWriter('output_A.avi', fourcc, 12.0, (d2,d1),0) \n",
    "for i in range(clip):\n",
    "    out.write(np.uint8(A[i]))\n",
    "out.release()"
   ]
  },
  {
   "cell_type": "code",
   "execution_count": null,
   "metadata": {
    "collapsed": true
   },
   "outputs": [],
   "source": [
    "#Write E Video\n",
    "fourcc = cv2.VideoWriter_fourcc(*'DIVX')\n",
    "out = cv2.VideoWriter('output_E.avi', fourcc, 12.0, (d2,d1),0) \n",
    "for i in range(clip):\n",
    "    out.write(np.uint8(E[i]))\n",
    "out.release()"
   ]
  }
 ],
 "metadata": {
  "anaconda-cloud": {},
  "kernelspec": {
   "display_name": "Python [default]",
   "language": "python",
   "name": "python3"
  },
  "language_info": {
   "codemirror_mode": {
    "name": "ipython",
    "version": 3
   },
   "file_extension": ".py",
   "mimetype": "text/x-python",
   "name": "python",
   "nbconvert_exporter": "python",
   "pygments_lexer": "ipython3",
   "version": "3.5.2"
  }
 },
 "nbformat": 4,
 "nbformat_minor": 1
}
